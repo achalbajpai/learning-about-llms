{
  "nbformat": 4,
  "nbformat_minor": 0,
  "metadata": {
    "colab": {
      "provenance": [],
      "authorship_tag": "ABX9TyMm1MwCYBJT3NkxsDYQUmvz",
      "include_colab_link": true
    },
    "kernelspec": {
      "name": "python3",
      "display_name": "Python 3"
    },
    "language_info": {
      "name": "python"
    }
  },
  "cells": [
    {
      "cell_type": "markdown",
      "metadata": {
        "id": "view-in-github",
        "colab_type": "text"
      },
      "source": [
        "<a href=\"https://colab.research.google.com/github/achalbajpai/llm-scratch/blob/main/LLMsFromScratch.ipynb\" target=\"_parent\"><img src=\"https://colab.research.google.com/assets/colab-badge.svg\" alt=\"Open In Colab\"/></a>"
      ]
    },
    {
      "cell_type": "markdown",
      "source": [
        "# Step 1 - **Creating Tokens**\n",
        "\n"
      ],
      "metadata": {
        "id": "k71buD91WMgA"
      }
    },
    {
      "cell_type": "code",
      "execution_count": 2,
      "metadata": {
        "colab": {
          "base_uri": "https://localhost:8080/"
        },
        "id": "VrQmKG-dV6E2",
        "outputId": "6ab59548-4554-4d5c-b508-04cb55a4d3c7"
      },
      "outputs": [
        {
          "output_type": "stream",
          "name": "stdout",
          "text": [
            "Total number of characters: 20479\n",
            "I HAD always thought Jack Gisburn rather a cheap genius--though a good fellow enough--so it was no \n"
          ]
        }
      ],
      "source": [
        "# Open the file \"the-verdict.txt\" in read mode with UTF-8 encoding\n",
        "with open(\"the-verdict.txt\", \"r\", encoding=\"utf-8\") as f:\n",
        "    # Read the entire content of the file into the variable `raw_text`\n",
        "    raw_text = f.read()\n",
        "\n",
        "# Print the total number of characters in the file\n",
        "print(\"Total number of characters:\", len(raw_text))\n",
        "\n",
        "# Print the first 99 characters of the file content\n",
        "print(raw_text[:99])"
      ]
    },
    {
      "cell_type": "markdown",
      "source": [
        "# Tokenizer\n"
      ],
      "metadata": {
        "id": "bpU_tvTHfelh"
      }
    },
    {
      "cell_type": "code",
      "source": [
        "import re\n",
        "\n",
        "# Define the input text\n",
        "text = \"Hello, world. This, is a test.\"\n",
        "\n",
        "# Use re.split() to split the text by commas (`,`) or periods (`.`) followed by a whitespace character (`\\s`)\n",
        "# The parentheses around `[,.]\\s` capture the delimiter (comma or period + space) as separate elements in the result\n",
        "result = re.split(r'([,.:;?_!\"\\()]\\s)', text)\n",
        "\n",
        "# Filter out any empty strings or strings that consist only of whitespace from the result\n",
        "# `item.strip()` removes leading and trailing whitespace, and `if item.strip()` ensures only non-whitespace items are kept\n",
        "result = [item for item in result if item.strip()]\n",
        "\n",
        "# Print the final result\n",
        "print(result)"
      ],
      "metadata": {
        "colab": {
          "base_uri": "https://localhost:8080/"
        },
        "id": "AsjZSf8vd3hr",
        "outputId": "91a2bc79-3a6c-434b-ed58-1391eaad7cc7"
      },
      "execution_count": 6,
      "outputs": [
        {
          "output_type": "stream",
          "name": "stdout",
          "text": [
            "['Hello', ', ', 'world', '. ', 'This', ', ', 'is a test.']\n"
          ]
        }
      ]
    },
    {
      "cell_type": "code",
      "source": [
        "preprocessed = re.split(r'([,.:;?_!\"\\()]\\s)', raw_text)\n",
        "preprocessed = [item for item in preprocessed if item.strip()]\n",
        "print(preprocessed[:99])\n",
        "print(len(preprocessed))"
      ],
      "metadata": {
        "colab": {
          "base_uri": "https://localhost:8080/"
        },
        "id": "tkIWCZXFfqzF",
        "outputId": "eec59956-cb2a-4ca9-bb50-2b0fd5fe0169"
      },
      "execution_count": 8,
      "outputs": [
        {
          "output_type": "stream",
          "name": "stdout",
          "text": [
            "['I HAD always thought Jack Gisburn rather a cheap genius--though a good fellow enough--so it was no great surprise to me to hear that', ', ', 'in the height of his glory', ', ', 'he had dropped his painting', ', ', 'married a rich widow', ', ', 'and established himself in a villa on the Riviera', '. ', '(Though I rather thought it would have been Rome or Florence.', ')\\n', '\\n\"The height of his glory\"--that was what the women called it', '. ', 'I can hear Mrs', '. ', 'Gideon Thwing--his last Chicago sitter--deploring his unaccountable abdication', '. ', '\"Of course it\\'s going to send the value of my picture \\'way up', '; ', \"but I don't think of that\", ', ', 'Mr', '. ', 'Rickham--the loss to Arrt is all I think of.', '\" ', 'The word', ', ', 'on Mrs', '. ', \"Thwing's lips\", ', ', 'multiplied its _rs', '_ ', 'as though they were reflected in an endless vista of mirrors', '. ', 'And it was not only the Mrs', '. ', 'Thwings who mourned', '. ', 'Had not the exquisite Hermia Croft', ', ', 'at the last Grafton Gallery show', ', ', 'stopped me before Gisburn\\'s \"Moon-dancers', '\" ', 'to say', ', ', 'with tears in her eyes', ': ', '\"We shall not look upon its like again\"', '?\\n', \"\\nWell!--even through the prism of Hermia's tears I felt able to face the fact with equanimity\", '. ', 'Poor Jack Gisburn', '! ', 'The women had made him--it was fitting that they should mourn him', '. ', 'Among his own sex fewer regrets were heard', ', ', 'and in his own trade hardly a murmur', '. ', 'Professional jealousy', '? ', 'Perhaps', '. ', 'If it were', ', ', 'the honour of the craft was vindicated by little Claude Nutley', ', ', 'who', ', ', 'in all good faith', ', ', 'brought out in the Burlington a very handsome \"obituary', '\" ', \"on Jack--one of those showy articles stocked with random technicalities that I have heard (I won't say by whom\", ') ', \"compared to Gisburn's painting\", '. ', 'And so--his resolve being apparently irrevocable--the discussion gradually died out', ', ', 'and', ', ', 'as Mrs', '. ', 'Thwing had predicted', ', ', 'the price of \"Gisburns', '\" ', 'went up', '.\\n', '\\nIt was not till three years later that', ', ', \"in the course of a few weeks' idling on the Riviera\", ', ', 'it suddenly occurred to me to wonder why Gisburn had given up his painting', '. ', 'On reflection']\n",
            "1083\n"
          ]
        }
      ]
    },
    {
      "cell_type": "markdown",
      "source": [
        "# **Step 2 - Token to Token ID**\n"
      ],
      "metadata": {
        "id": "QD-LNBrRgidF"
      }
    },
    {
      "cell_type": "code",
      "source": [
        "all_words = sorted(set(preprocessed))\n",
        "vocab_size = len(all_words)\n",
        "print(vocab_size)"
      ],
      "metadata": {
        "colab": {
          "base_uri": "https://localhost:8080/"
        },
        "id": "wwYfMtxBgpvs",
        "outputId": "0ab676b6-d446-4171-c1ef-ecbbdf04f966"
      },
      "execution_count": 9,
      "outputs": [
        {
          "output_type": "stream",
          "name": "stdout",
          "text": [
            "530\n"
          ]
        }
      ]
    },
    {
      "cell_type": "code",
      "source": [
        "vocab = {token:integer for integer, token in enumerate(all_words)}"
      ],
      "metadata": {
        "id": "KzZF8CuBhsWH"
      },
      "execution_count": 11,
      "outputs": []
    },
    {
      "cell_type": "code",
      "source": [
        "for i, item in enumerate(vocab.items()):\n",
        "  print(item)\n",
        "  if i >= 50:\n",
        "    break"
      ],
      "metadata": {
        "colab": {
          "base_uri": "https://localhost:8080/"
        },
        "id": "JraDFZHjh2L1",
        "outputId": "ac663d03-3cf7-4c27-d9e0-efe3a877e2b6"
      },
      "execution_count": 12,
      "outputs": [
        {
          "output_type": "stream",
          "name": "stdout",
          "text": [
            "('\\n\"Ah', 0)\n",
            "('\\n\"Ah--I didn\\'t know you even knew the Strouds', 1)\n",
            "('\\n\"By Jove--a Stroud!', 2)\n",
            "('\\n\"Destroyed it?', 3)\n",
            "('\\n\"Don\\'t you ever dabble with paint any more?', 4)\n",
            "('\\n\"Hang it', 5)\n",
            "('\\n\"Has he chucked his pictures too', 6)\n",
            "('\\n\"How it happened', 7)\n",
            "('\\n\"I didn\\'t--till after', 8)\n",
            "('\\n\"I like to fancy that Stroud himself would have given it to me', 9)\n",
            "('\\n\"I looked up again', 10)\n",
            "('\\n\"I turned back to my work', 11)\n",
            "('\\n\"I was glad at first', 12)\n",
            "('\\n\"I wish you\\'d tell me how it happened,', 13)\n",
            "('\\n\"I\\'d rather like to tell you--because I\\'ve always suspected you of loathing my work.', 14)\n",
            "('\\n\"It _was', 15)\n",
            "('\\n\"It\\'s the last he painted', 16)\n",
            "('\\n\"Money\\'s only excuse is to put beauty into circulation,', 17)\n",
            "('\\n\"Mr', 18)\n",
            "('\\n\"My dear', 19)\n",
            "('\\n\"Never think of it', 20)\n",
            "('\\n\"Never,', 21)\n",
            "('\\n\"Oh', 22)\n",
            "('\\n\"Once', 23)\n",
            "('\\n\"Or water-colour--or etching?', 24)\n",
            "('\\n\"That was his history', 25)\n",
            "('\\n\"The height of his glory\"--that was what the women called it', 26)\n",
            "('\\n\"Then I was taken up and left alone with him', 27)\n",
            "('\\n\"This is my own lair,', 28)\n",
            "('\\n\"Well', 29)\n",
            "('\\n\"What a wonder', 30)\n",
            "('\\n\"When he was dead', 31)\n",
            "('\\n\"Why _has', 32)\n",
            "('\\n\"Yes--quite insensible to the irony', 33)\n",
            "('\\n\"You ever knew', 34)\n",
            "('\\nA slight shade of constraint crossed Mrs', 35)\n",
            "('\\nAnd', 36)\n",
            "('\\nAnd his tone told me in a flash that he never thought of anything else', 37)\n",
            "('\\nAs he stood there', 38)\n",
            "('\\nBut', 39)\n",
            "('\\nFor the first time my idle curiosity about my companion turned into a serious desire to understand him better', 40)\n",
            "('\\nGisburn had a curious smile in his eyes', 41)\n",
            "('\\nHe answered slowly', 42)\n",
            "('\\nHe flung himself down in the arm-chair near mine', 43)\n",
            "('\\nHe laughed again', 44)\n",
            "('\\nHe laughed slightly', 45)\n",
            "('\\nHe placed them at my elbow and continued to wander up and down the room', 46)\n",
            "('\\nHe showed it to me with a kind of naive suburban pride', 47)\n",
            "('\\nHe stood looking up at the sketch', 48)\n",
            "('\\nHe stood up and laid his hand on my shoulder with a laugh', 49)\n",
            "('\\nHe was silent', 50)\n"
          ]
        }
      ]
    }
  ]
}