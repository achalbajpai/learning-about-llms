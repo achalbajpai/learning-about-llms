{
  "nbformat": 4,
  "nbformat_minor": 0,
  "metadata": {
    "colab": {
      "provenance": [],
      "authorship_tag": "ABX9TyN10Yk69c30DEaWhigSF2wa",
      "include_colab_link": true
    },
    "kernelspec": {
      "name": "python3",
      "display_name": "Python 3"
    },
    "language_info": {
      "name": "python"
    }
  },
  "cells": [
    {
      "cell_type": "markdown",
      "metadata": {
        "id": "view-in-github",
        "colab_type": "text"
      },
      "source": [
        "<a href=\"https://colab.research.google.com/github/achalbajpai/llm-scratch/blob/main/LLMsFromScratch.ipynb\" target=\"_parent\"><img src=\"https://colab.research.google.com/assets/colab-badge.svg\" alt=\"Open In Colab\"/></a>"
      ]
    },
    {
      "cell_type": "markdown",
      "source": [
        "# Step 1 - **Creating Tokens**\n",
        "\n"
      ],
      "metadata": {
        "id": "k71buD91WMgA"
      }
    },
    {
      "cell_type": "code",
      "execution_count": 2,
      "metadata": {
        "colab": {
          "base_uri": "https://localhost:8080/"
        },
        "id": "VrQmKG-dV6E2",
        "outputId": "6ab59548-4554-4d5c-b508-04cb55a4d3c7"
      },
      "outputs": [
        {
          "output_type": "stream",
          "name": "stdout",
          "text": [
            "Total number of characters: 20479\n",
            "I HAD always thought Jack Gisburn rather a cheap genius--though a good fellow enough--so it was no \n"
          ]
        }
      ],
      "source": [
        "# Open the file \"the-verdict.txt\" in read mode with UTF-8 encoding\n",
        "with open(\"the-verdict.txt\", \"r\", encoding=\"utf-8\") as f:\n",
        "    # Read the entire content of the file into the variable `raw_text`\n",
        "    raw_text = f.read()\n",
        "\n",
        "# Print the total number of characters in the file\n",
        "print(\"Total number of characters:\", len(raw_text))\n",
        "\n",
        "# Print the first 99 characters of the file content\n",
        "print(raw_text[:99])"
      ]
    },
    {
      "cell_type": "code",
      "source": [
        "import re\n",
        "\n",
        "# Define the input text\n",
        "text = \"Hello, world. This, is a test.\"\n",
        "\n",
        "# Use re.split() to split the text by commas (`,`) or periods (`.`) followed by a whitespace character (`\\s`)\n",
        "# The parentheses around `[,.]\\s` capture the delimiter (comma or period + space) as separate elements in the result\n",
        "result = re.split(r'([,.]\\s)', text)\n",
        "\n",
        "# Filter out any empty strings or strings that consist only of whitespace from the result\n",
        "# `item.strip()` removes leading and trailing whitespace, and `if item.strip()` ensures only non-whitespace items are kept\n",
        "result = [item for item in result if item.strip()]\n",
        "\n",
        "# Print the final result\n",
        "print(result)"
      ],
      "metadata": {
        "colab": {
          "base_uri": "https://localhost:8080/"
        },
        "id": "AsjZSf8vd3hr",
        "outputId": "a2583e0b-7d2a-4458-8ff4-74410841a4c0"
      },
      "execution_count": 5,
      "outputs": [
        {
          "output_type": "stream",
          "name": "stdout",
          "text": [
            "['Hello', ', ', 'world', '. ', 'This', ', ', 'is a test.']\n"
          ]
        }
      ]
    }
  ]
}